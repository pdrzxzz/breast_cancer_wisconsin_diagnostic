{
  "nbformat": 4,
  "nbformat_minor": 0,
  "metadata": {
    "colab": {
      "provenance": [],
      "authorship_tag": "ABX9TyOa52frkzMhe4jbczfIsGLN",
      "include_colab_link": true
    },
    "kernelspec": {
      "name": "python3",
      "display_name": "Python 3"
    },
    "language_info": {
      "name": "python"
    }
  },
  "cells": [
    {
      "cell_type": "markdown",
      "metadata": {
        "id": "view-in-github",
        "colab_type": "text"
      },
      "source": [
        "<a href=\"https://colab.research.google.com/github/pdrzxzz/breast_cancer_wisconsin_diagnostic/blob/main/breast_cancer_wisconsin_diagnostic.ipynb\" target=\"_parent\"><img src=\"https://colab.research.google.com/assets/colab-badge.svg\" alt=\"Open In Colab\"/></a>"
      ]
    },
    {
      "cell_type": "code",
      "source": [
        "# Basic data science libraries\n",
        "import numpy as np\n",
        "import pandas as pd\n",
        "import matplotlib.pyplot as plt\n",
        "import seaborn as sns\n",
        "\n",
        "# Data processing\n",
        "from sklearn.preprocessing import StandardScaler\n",
        "\n",
        "# Model adjustments\n",
        "from sklearn.model_selection import train_test_split, StratifiedKFold, GridSearchCV, learning_curve\n",
        "\n",
        "# Models\n",
        "from sklearn.tree import DecisionTreeClassifier\n",
        "from sklearn.naive_bayes import GaussianNB\n",
        "from sklearn.linear_model import LogisticRegression\n",
        "from sklearn.neighbors import KNeighborsClassifier\n",
        "\n",
        "# Metrics\n",
        "from sklearn.metrics import classification_report, confusion_matrix, accuracy_score"
      ],
      "metadata": {
        "id": "xPZBBr7GuyGy"
      },
      "execution_count": 215,
      "outputs": []
    },
    {
      "cell_type": "code",
      "source": [
        "# List available fonts\n",
        "# import matplotlib.font_manager\n",
        "# for f in matplotlib.font_manager.fontManager.ttflist:\n",
        "#     print(f.name)"
      ],
      "metadata": {
        "id": "FJG5xTAIOJ7q"
      },
      "execution_count": 204,
      "outputs": []
    },
    {
      "cell_type": "code",
      "source": [
        "# Color of the plots\n",
        "CMAP = \"Greens\"\n",
        "\n",
        "# Change font.family globally\n",
        "plt.rcParams[\"font.family\"] = \"Liberation Serif\""
      ],
      "metadata": {
        "id": "TI6AMqDs7uGH"
      },
      "execution_count": 203,
      "outputs": []
    },
    {
      "cell_type": "code",
      "execution_count": 2,
      "metadata": {
        "colab": {
          "base_uri": "https://localhost:8080/"
        },
        "id": "5ZAuokKfpKHI",
        "outputId": "37c246ee-86ce-45df-9992-a4b2d85852d4"
      },
      "outputs": [
        {
          "output_type": "stream",
          "name": "stdout",
          "text": [
            "Collecting ucimlrepo\n",
            "  Downloading ucimlrepo-0.0.7-py3-none-any.whl.metadata (5.5 kB)\n",
            "Requirement already satisfied: pandas>=1.0.0 in /usr/local/lib/python3.11/dist-packages (from ucimlrepo) (2.2.2)\n",
            "Requirement already satisfied: certifi>=2020.12.5 in /usr/local/lib/python3.11/dist-packages (from ucimlrepo) (2025.6.15)\n",
            "Requirement already satisfied: numpy>=1.23.2 in /usr/local/lib/python3.11/dist-packages (from pandas>=1.0.0->ucimlrepo) (2.0.2)\n",
            "Requirement already satisfied: python-dateutil>=2.8.2 in /usr/local/lib/python3.11/dist-packages (from pandas>=1.0.0->ucimlrepo) (2.9.0.post0)\n",
            "Requirement already satisfied: pytz>=2020.1 in /usr/local/lib/python3.11/dist-packages (from pandas>=1.0.0->ucimlrepo) (2025.2)\n",
            "Requirement already satisfied: tzdata>=2022.7 in /usr/local/lib/python3.11/dist-packages (from pandas>=1.0.0->ucimlrepo) (2025.2)\n",
            "Requirement already satisfied: six>=1.5 in /usr/local/lib/python3.11/dist-packages (from python-dateutil>=2.8.2->pandas>=1.0.0->ucimlrepo) (1.17.0)\n",
            "Downloading ucimlrepo-0.0.7-py3-none-any.whl (8.0 kB)\n",
            "Installing collected packages: ucimlrepo\n",
            "Successfully installed ucimlrepo-0.0.7\n"
          ]
        }
      ],
      "source": [
        "!pip install ucimlrepo"
      ]
    },
    {
      "cell_type": "code",
      "source": [
        "# Fetch dataset (https://archive.ics.uci.edu/dataset/17/breast+cancer+wisconsin+diagnostic)\n",
        "from ucimlrepo import fetch_ucirepo\n",
        "breast_cancer_wisconsin_diagnostic = fetch_ucirepo(id=17)\n",
        "\n",
        "# Split data (as pandas dataframes)\n",
        "X = breast_cancer_wisconsin_diagnostic.data.features\n",
        "y = breast_cancer_wisconsin_diagnostic.data.targets"
      ],
      "metadata": {
        "id": "MijQcYV8pjpC"
      },
      "execution_count": 3,
      "outputs": []
    },
    {
      "cell_type": "code",
      "source": [
        "# Convert y from dataframe to 1D array (easier to models use)\n",
        "y = y.values.ravel()"
      ],
      "metadata": {
        "id": "qoEwTMSwBAW5"
      },
      "execution_count": 4,
      "outputs": []
    },
    {
      "cell_type": "code",
      "source": [
        "def print_proportion_of_values(series):\n",
        "  for c in series.unique():\n",
        "    print(f\"{int(series.value_counts().loc[c])/len(series)*100:.2f}% {c}\")"
      ],
      "metadata": {
        "id": "0e7TfJuz1UU0"
      },
      "execution_count": 20,
      "outputs": []
    },
    {
      "cell_type": "code",
      "source": [
        "# Proportion of target data\n",
        "print_proportion_of_values(pd.Series(y))"
      ],
      "metadata": {
        "colab": {
          "base_uri": "https://localhost:8080/"
        },
        "id": "Ijz5z-v62Jg9",
        "outputId": "9da3d6f6-6d96-429c-926c-d3ed81d3c269"
      },
      "execution_count": 21,
      "outputs": [
        {
          "output_type": "stream",
          "name": "stdout",
          "text": [
            "37.26% M\n",
            "62.74% B\n"
          ]
        }
      ]
    },
    {
      "cell_type": "code",
      "source": [
        "X_train, X_test, y_train, y_test = train_test_split(X, y, train_size=0.7, random_state=0, stratify=y)\n",
        "scaler = StandardScaler()\n",
        "X_train_scaled = scaler.fit_transform(X_train)\n",
        "X_test_scaled = scaler.transform(X_test)"
      ],
      "metadata": {
        "id": "O1qqjSc-umwv"
      },
      "execution_count": 22,
      "outputs": []
    },
    {
      "cell_type": "code",
      "source": [
        "# Check stratify\n",
        "print(\"Train: \")\n",
        "print_proportion_of_values(pd.Series(y_train))\n",
        "print(\"Test: \")\n",
        "print_proportion_of_values(pd.Series(y_test))"
      ],
      "metadata": {
        "colab": {
          "base_uri": "https://localhost:8080/"
        },
        "id": "ucMe5DxB0qon",
        "outputId": "962ee4f1-6beb-4982-ec8c-8502013191cc"
      },
      "execution_count": 24,
      "outputs": [
        {
          "output_type": "stream",
          "name": "stdout",
          "text": [
            "Train: \n",
            "62.81% B\n",
            "37.19% M\n",
            "Test: \n",
            "62.57% B\n",
            "37.43% M\n"
          ]
        }
      ]
    },
    {
      "cell_type": "code",
      "source": [
        "pd.DataFrame(X_train_scaled).head(3)"
      ],
      "metadata": {
        "colab": {
          "base_uri": "https://localhost:8080/",
          "height": 193
        },
        "id": "t2jLupEHvubZ",
        "outputId": "f3a44c1d-b337-4dfe-fec6-7270704fc4dc"
      },
      "execution_count": 25,
      "outputs": [
        {
          "output_type": "execute_result",
          "data": {
            "text/plain": [
              "         0         1         2         3         4         5         6   \\\n",
              "0 -0.350629  0.038573 -0.375394 -0.407176 -0.343801 -0.451566 -0.856479   \n",
              "1  1.974650  1.632742  2.074151  1.850200  1.273349  3.342095  1.933915   \n",
              "2  0.243420  0.088462  0.148139  0.102409 -0.852271 -0.921388 -0.838339   \n",
              "\n",
              "         7         8         9   ...        20        21        22        23  \\\n",
              "0 -0.688458  0.198484  0.113622  ... -0.373555 -0.224975 -0.356316 -0.444864   \n",
              "1  2.504740  2.152907  1.651250  ...  2.188408  1.244879  2.069841  2.170321   \n",
              "2 -0.725923 -1.067864 -1.467895  ... -0.053047  0.007618 -0.142805 -0.167265   \n",
              "\n",
              "         24        25        26        27        28        29  \n",
              "0 -0.465289 -0.546261 -0.933826 -0.737049  0.687716 -0.356293  \n",
              "1  0.759682  3.196602  1.889250  2.639275  1.974323  2.439058  \n",
              "2 -1.212655 -0.957963 -0.904839 -0.830977 -0.405489 -1.259785  \n",
              "\n",
              "[3 rows x 30 columns]"
            ],
            "text/html": [
              "\n",
              "  <div id=\"df-3a7d1983-4947-4a86-9a4d-4a6920301509\" class=\"colab-df-container\">\n",
              "    <div>\n",
              "<style scoped>\n",
              "    .dataframe tbody tr th:only-of-type {\n",
              "        vertical-align: middle;\n",
              "    }\n",
              "\n",
              "    .dataframe tbody tr th {\n",
              "        vertical-align: top;\n",
              "    }\n",
              "\n",
              "    .dataframe thead th {\n",
              "        text-align: right;\n",
              "    }\n",
              "</style>\n",
              "<table border=\"1\" class=\"dataframe\">\n",
              "  <thead>\n",
              "    <tr style=\"text-align: right;\">\n",
              "      <th></th>\n",
              "      <th>0</th>\n",
              "      <th>1</th>\n",
              "      <th>2</th>\n",
              "      <th>3</th>\n",
              "      <th>4</th>\n",
              "      <th>5</th>\n",
              "      <th>6</th>\n",
              "      <th>7</th>\n",
              "      <th>8</th>\n",
              "      <th>9</th>\n",
              "      <th>...</th>\n",
              "      <th>20</th>\n",
              "      <th>21</th>\n",
              "      <th>22</th>\n",
              "      <th>23</th>\n",
              "      <th>24</th>\n",
              "      <th>25</th>\n",
              "      <th>26</th>\n",
              "      <th>27</th>\n",
              "      <th>28</th>\n",
              "      <th>29</th>\n",
              "    </tr>\n",
              "  </thead>\n",
              "  <tbody>\n",
              "    <tr>\n",
              "      <th>0</th>\n",
              "      <td>-0.350629</td>\n",
              "      <td>0.038573</td>\n",
              "      <td>-0.375394</td>\n",
              "      <td>-0.407176</td>\n",
              "      <td>-0.343801</td>\n",
              "      <td>-0.451566</td>\n",
              "      <td>-0.856479</td>\n",
              "      <td>-0.688458</td>\n",
              "      <td>0.198484</td>\n",
              "      <td>0.113622</td>\n",
              "      <td>...</td>\n",
              "      <td>-0.373555</td>\n",
              "      <td>-0.224975</td>\n",
              "      <td>-0.356316</td>\n",
              "      <td>-0.444864</td>\n",
              "      <td>-0.465289</td>\n",
              "      <td>-0.546261</td>\n",
              "      <td>-0.933826</td>\n",
              "      <td>-0.737049</td>\n",
              "      <td>0.687716</td>\n",
              "      <td>-0.356293</td>\n",
              "    </tr>\n",
              "    <tr>\n",
              "      <th>1</th>\n",
              "      <td>1.974650</td>\n",
              "      <td>1.632742</td>\n",
              "      <td>2.074151</td>\n",
              "      <td>1.850200</td>\n",
              "      <td>1.273349</td>\n",
              "      <td>3.342095</td>\n",
              "      <td>1.933915</td>\n",
              "      <td>2.504740</td>\n",
              "      <td>2.152907</td>\n",
              "      <td>1.651250</td>\n",
              "      <td>...</td>\n",
              "      <td>2.188408</td>\n",
              "      <td>1.244879</td>\n",
              "      <td>2.069841</td>\n",
              "      <td>2.170321</td>\n",
              "      <td>0.759682</td>\n",
              "      <td>3.196602</td>\n",
              "      <td>1.889250</td>\n",
              "      <td>2.639275</td>\n",
              "      <td>1.974323</td>\n",
              "      <td>2.439058</td>\n",
              "    </tr>\n",
              "    <tr>\n",
              "      <th>2</th>\n",
              "      <td>0.243420</td>\n",
              "      <td>0.088462</td>\n",
              "      <td>0.148139</td>\n",
              "      <td>0.102409</td>\n",
              "      <td>-0.852271</td>\n",
              "      <td>-0.921388</td>\n",
              "      <td>-0.838339</td>\n",
              "      <td>-0.725923</td>\n",
              "      <td>-1.067864</td>\n",
              "      <td>-1.467895</td>\n",
              "      <td>...</td>\n",
              "      <td>-0.053047</td>\n",
              "      <td>0.007618</td>\n",
              "      <td>-0.142805</td>\n",
              "      <td>-0.167265</td>\n",
              "      <td>-1.212655</td>\n",
              "      <td>-0.957963</td>\n",
              "      <td>-0.904839</td>\n",
              "      <td>-0.830977</td>\n",
              "      <td>-0.405489</td>\n",
              "      <td>-1.259785</td>\n",
              "    </tr>\n",
              "  </tbody>\n",
              "</table>\n",
              "<p>3 rows × 30 columns</p>\n",
              "</div>\n",
              "    <div class=\"colab-df-buttons\">\n",
              "\n",
              "  <div class=\"colab-df-container\">\n",
              "    <button class=\"colab-df-convert\" onclick=\"convertToInteractive('df-3a7d1983-4947-4a86-9a4d-4a6920301509')\"\n",
              "            title=\"Convert this dataframe to an interactive table.\"\n",
              "            style=\"display:none;\">\n",
              "\n",
              "  <svg xmlns=\"http://www.w3.org/2000/svg\" height=\"24px\" viewBox=\"0 -960 960 960\">\n",
              "    <path d=\"M120-120v-720h720v720H120Zm60-500h600v-160H180v160Zm220 220h160v-160H400v160Zm0 220h160v-160H400v160ZM180-400h160v-160H180v160Zm440 0h160v-160H620v160ZM180-180h160v-160H180v160Zm440 0h160v-160H620v160Z\"/>\n",
              "  </svg>\n",
              "    </button>\n",
              "\n",
              "  <style>\n",
              "    .colab-df-container {\n",
              "      display:flex;\n",
              "      gap: 12px;\n",
              "    }\n",
              "\n",
              "    .colab-df-convert {\n",
              "      background-color: #E8F0FE;\n",
              "      border: none;\n",
              "      border-radius: 50%;\n",
              "      cursor: pointer;\n",
              "      display: none;\n",
              "      fill: #1967D2;\n",
              "      height: 32px;\n",
              "      padding: 0 0 0 0;\n",
              "      width: 32px;\n",
              "    }\n",
              "\n",
              "    .colab-df-convert:hover {\n",
              "      background-color: #E2EBFA;\n",
              "      box-shadow: 0px 1px 2px rgba(60, 64, 67, 0.3), 0px 1px 3px 1px rgba(60, 64, 67, 0.15);\n",
              "      fill: #174EA6;\n",
              "    }\n",
              "\n",
              "    .colab-df-buttons div {\n",
              "      margin-bottom: 4px;\n",
              "    }\n",
              "\n",
              "    [theme=dark] .colab-df-convert {\n",
              "      background-color: #3B4455;\n",
              "      fill: #D2E3FC;\n",
              "    }\n",
              "\n",
              "    [theme=dark] .colab-df-convert:hover {\n",
              "      background-color: #434B5C;\n",
              "      box-shadow: 0px 1px 3px 1px rgba(0, 0, 0, 0.15);\n",
              "      filter: drop-shadow(0px 1px 2px rgba(0, 0, 0, 0.3));\n",
              "      fill: #FFFFFF;\n",
              "    }\n",
              "  </style>\n",
              "\n",
              "    <script>\n",
              "      const buttonEl =\n",
              "        document.querySelector('#df-3a7d1983-4947-4a86-9a4d-4a6920301509 button.colab-df-convert');\n",
              "      buttonEl.style.display =\n",
              "        google.colab.kernel.accessAllowed ? 'block' : 'none';\n",
              "\n",
              "      async function convertToInteractive(key) {\n",
              "        const element = document.querySelector('#df-3a7d1983-4947-4a86-9a4d-4a6920301509');\n",
              "        const dataTable =\n",
              "          await google.colab.kernel.invokeFunction('convertToInteractive',\n",
              "                                                    [key], {});\n",
              "        if (!dataTable) return;\n",
              "\n",
              "        const docLinkHtml = 'Like what you see? Visit the ' +\n",
              "          '<a target=\"_blank\" href=https://colab.research.google.com/notebooks/data_table.ipynb>data table notebook</a>'\n",
              "          + ' to learn more about interactive tables.';\n",
              "        element.innerHTML = '';\n",
              "        dataTable['output_type'] = 'display_data';\n",
              "        await google.colab.output.renderOutput(dataTable, element);\n",
              "        const docLink = document.createElement('div');\n",
              "        docLink.innerHTML = docLinkHtml;\n",
              "        element.appendChild(docLink);\n",
              "      }\n",
              "    </script>\n",
              "  </div>\n",
              "\n",
              "\n",
              "    <div id=\"df-47118df8-5cc8-4be5-bfa5-06bf50549810\">\n",
              "      <button class=\"colab-df-quickchart\" onclick=\"quickchart('df-47118df8-5cc8-4be5-bfa5-06bf50549810')\"\n",
              "                title=\"Suggest charts\"\n",
              "                style=\"display:none;\">\n",
              "\n",
              "<svg xmlns=\"http://www.w3.org/2000/svg\" height=\"24px\"viewBox=\"0 0 24 24\"\n",
              "     width=\"24px\">\n",
              "    <g>\n",
              "        <path d=\"M19 3H5c-1.1 0-2 .9-2 2v14c0 1.1.9 2 2 2h14c1.1 0 2-.9 2-2V5c0-1.1-.9-2-2-2zM9 17H7v-7h2v7zm4 0h-2V7h2v10zm4 0h-2v-4h2v4z\"/>\n",
              "    </g>\n",
              "</svg>\n",
              "      </button>\n",
              "\n",
              "<style>\n",
              "  .colab-df-quickchart {\n",
              "      --bg-color: #E8F0FE;\n",
              "      --fill-color: #1967D2;\n",
              "      --hover-bg-color: #E2EBFA;\n",
              "      --hover-fill-color: #174EA6;\n",
              "      --disabled-fill-color: #AAA;\n",
              "      --disabled-bg-color: #DDD;\n",
              "  }\n",
              "\n",
              "  [theme=dark] .colab-df-quickchart {\n",
              "      --bg-color: #3B4455;\n",
              "      --fill-color: #D2E3FC;\n",
              "      --hover-bg-color: #434B5C;\n",
              "      --hover-fill-color: #FFFFFF;\n",
              "      --disabled-bg-color: #3B4455;\n",
              "      --disabled-fill-color: #666;\n",
              "  }\n",
              "\n",
              "  .colab-df-quickchart {\n",
              "    background-color: var(--bg-color);\n",
              "    border: none;\n",
              "    border-radius: 50%;\n",
              "    cursor: pointer;\n",
              "    display: none;\n",
              "    fill: var(--fill-color);\n",
              "    height: 32px;\n",
              "    padding: 0;\n",
              "    width: 32px;\n",
              "  }\n",
              "\n",
              "  .colab-df-quickchart:hover {\n",
              "    background-color: var(--hover-bg-color);\n",
              "    box-shadow: 0 1px 2px rgba(60, 64, 67, 0.3), 0 1px 3px 1px rgba(60, 64, 67, 0.15);\n",
              "    fill: var(--button-hover-fill-color);\n",
              "  }\n",
              "\n",
              "  .colab-df-quickchart-complete:disabled,\n",
              "  .colab-df-quickchart-complete:disabled:hover {\n",
              "    background-color: var(--disabled-bg-color);\n",
              "    fill: var(--disabled-fill-color);\n",
              "    box-shadow: none;\n",
              "  }\n",
              "\n",
              "  .colab-df-spinner {\n",
              "    border: 2px solid var(--fill-color);\n",
              "    border-color: transparent;\n",
              "    border-bottom-color: var(--fill-color);\n",
              "    animation:\n",
              "      spin 1s steps(1) infinite;\n",
              "  }\n",
              "\n",
              "  @keyframes spin {\n",
              "    0% {\n",
              "      border-color: transparent;\n",
              "      border-bottom-color: var(--fill-color);\n",
              "      border-left-color: var(--fill-color);\n",
              "    }\n",
              "    20% {\n",
              "      border-color: transparent;\n",
              "      border-left-color: var(--fill-color);\n",
              "      border-top-color: var(--fill-color);\n",
              "    }\n",
              "    30% {\n",
              "      border-color: transparent;\n",
              "      border-left-color: var(--fill-color);\n",
              "      border-top-color: var(--fill-color);\n",
              "      border-right-color: var(--fill-color);\n",
              "    }\n",
              "    40% {\n",
              "      border-color: transparent;\n",
              "      border-right-color: var(--fill-color);\n",
              "      border-top-color: var(--fill-color);\n",
              "    }\n",
              "    60% {\n",
              "      border-color: transparent;\n",
              "      border-right-color: var(--fill-color);\n",
              "    }\n",
              "    80% {\n",
              "      border-color: transparent;\n",
              "      border-right-color: var(--fill-color);\n",
              "      border-bottom-color: var(--fill-color);\n",
              "    }\n",
              "    90% {\n",
              "      border-color: transparent;\n",
              "      border-bottom-color: var(--fill-color);\n",
              "    }\n",
              "  }\n",
              "</style>\n",
              "\n",
              "      <script>\n",
              "        async function quickchart(key) {\n",
              "          const quickchartButtonEl =\n",
              "            document.querySelector('#' + key + ' button');\n",
              "          quickchartButtonEl.disabled = true;  // To prevent multiple clicks.\n",
              "          quickchartButtonEl.classList.add('colab-df-spinner');\n",
              "          try {\n",
              "            const charts = await google.colab.kernel.invokeFunction(\n",
              "                'suggestCharts', [key], {});\n",
              "          } catch (error) {\n",
              "            console.error('Error during call to suggestCharts:', error);\n",
              "          }\n",
              "          quickchartButtonEl.classList.remove('colab-df-spinner');\n",
              "          quickchartButtonEl.classList.add('colab-df-quickchart-complete');\n",
              "        }\n",
              "        (() => {\n",
              "          let quickchartButtonEl =\n",
              "            document.querySelector('#df-47118df8-5cc8-4be5-bfa5-06bf50549810 button');\n",
              "          quickchartButtonEl.style.display =\n",
              "            google.colab.kernel.accessAllowed ? 'block' : 'none';\n",
              "        })();\n",
              "      </script>\n",
              "    </div>\n",
              "\n",
              "    </div>\n",
              "  </div>\n"
            ],
            "application/vnd.google.colaboratory.intrinsic+json": {
              "type": "dataframe"
            }
          },
          "metadata": {},
          "execution_count": 25
        }
      ]
    },
    {
      "cell_type": "code",
      "source": [
        "def personalized_confusion_matrix(model_name, y_true, y_pred, ax):\n",
        "    cm = confusion_matrix(y_true, y_pred)\n",
        "    total = cm.sum()\n",
        "\n",
        "    # Matrix labels\n",
        "    labels = np.array([['TN', 'FP'], ['FN', 'TP']])\n",
        "    percentages = cm / total * 100\n",
        "    annot = np.empty_like(cm).astype(str)\n",
        "\n",
        "    # Create annotation with label, absolute count, and percentage\n",
        "    for i in range(cm.shape[0]):\n",
        "        for j in range(cm.shape[1]):\n",
        "            annot[i, j] = f'{labels[i, j]}\\n{cm[i, j]}\\n{percentages[i, j]:.1f}%'\n",
        "\n",
        "    # Create DataFrame for the heatmap\n",
        "    df_cm = pd.DataFrame(cm, index=['Actual: 0', 'Actual: 1'], columns=['Predicted: 0', 'Predicted: 1'])\n",
        "\n",
        "    # Plot with seaborn\n",
        "    sns.heatmap(df_cm, annot=annot, fmt=\"\", vmin=-300, vmax=130, cmap=CMAP, cbar=False, ax=ax)\n",
        "    # ax.set_title(f'{model_name} Confusion Matrix')\n",
        "    plt.tight_layout()"
      ],
      "metadata": {
        "id": "rp4Xw7NJ7-vU"
      },
      "execution_count": 223,
      "outputs": []
    },
    {
      "cell_type": "code",
      "source": [
        "def personalized_classification_report(model_name, y_true, y_pred, ax):\n",
        "  clf_report = classification_report(y_true, y_pred, output_dict=True)\n",
        "  clf_report.pop(\"accuracy\", None)\n",
        "  sns.heatmap(pd.DataFrame(clf_report).iloc[:-1, :].T, vmin=0.7, vmax=1, cmap=CMAP, annot=True, cbar=False, ax=ax)\n",
        "  ax.set_title(f'{model_name}', weight='bold')\n",
        "  accuracy = accuracy_score(y_true, y_pred)\n",
        "  ax.text(0.5, -0.3, f'Accuracy: {accuracy:.2f}', ha='center', va='center', fontsize=10, transform=ax.transAxes)"
      ],
      "metadata": {
        "id": "u8z3DO8P_GRf"
      },
      "execution_count": 213,
      "outputs": []
    },
    {
      "cell_type": "code",
      "source": [
        "def evaluate_classifier(model, model_name, X_train, X_test, y_train, y_test, classification_ax=None, confusion_matrix_ax=None):\n",
        "    model.fit(X_train, y_train)\n",
        "    y_pred = model.predict(X_test)\n",
        "    classification_ax and personalized_classification_report(model_name, y_test, y_pred, ax=classification_ax)\n",
        "    confusion_matrix_ax and personalized_confusion_matrix(model_name, y_test, y_pred, ax=confusion_matrix_ax)\n",
        "\n",
        "def compare_classifiers(models, models_names, X_train, X_test, y_train, y_test):\n",
        "  assert len(models) == len(models_names)\n",
        "  assert len(models) <= 4\n",
        "  fig, axs = plt.subplots(2, 4, figsize=(len(models)*4, len(models)*1.5))\n",
        "  for ax, classifier, classifier_name in zip(axs.flat[:len(models)+1], models, models_names):\n",
        "    evaluate_classifier(classifier, classifier_name, X_train_scaled, X_test_scaled, y_train, y_test, classification_ax=ax)\n",
        "  for ax, classifier, classifier_name in zip(axs.flat[len(models):len(models)*2], models, models_names):\n",
        "    evaluate_classifier(classifier, classifier_name, X_train_scaled, X_test_scaled, y_train, y_test, confusion_matrix_ax=ax)\n",
        "\n",
        "  fig.suptitle(\"Classifiers Comparision\", size=\"xx-large\", weight=\"bold\")\n",
        "  fig.text(\n",
        "         x=0.5, y=-0.01,\n",
        "         s=\"TN: True Negative | FP: False Positive | FN: False Negative | TP: True Positive\",\n",
        "         ha='center', fontsize=\"small\")\n",
        "  plt.tight_layout()"
      ],
      "metadata": {
        "id": "05-NUXXd_HNz"
      },
      "execution_count": 221,
      "outputs": []
    },
    {
      "cell_type": "code",
      "source": [
        "compare_classifiers(\n",
        "    [DecisionTreeClassifier(), GaussianNB(), LogisticRegression(max_iter=1000),KNeighborsClassifier()],\n",
        "    [\"Decision Tree\", \"Naive Bayes\", \"Logistic Regression\", \"KNN\"],\n",
        "    X_train_scaled, X_test_scaled, y_train, y_test\n",
        "    )"
      ],
      "metadata": {
        "colab": {
          "base_uri": "https://localhost:8080/",
          "height": 632
        },
        "id": "0LRvG0on40wk",
        "outputId": "b8b93ec3-5157-4223-8750-afd74dbf846f"
      },
      "execution_count": 224,
      "outputs": [
        {
          "output_type": "display_data",
          "data": {
            "text/plain": [
              "<Figure size 1600x600 with 8 Axes>"
            ],
            "image/png": "[encoded data removed]"
          },
          "metadata": {}
        }
      ]
    },
    {
      "cell_type": "code",
      "source": [
        "# Hyperparameter optimization\n",
        "skf = StratifiedKFold(n_splits=5, shuffle=True, random_state=0)\n",
        "\n"
      ],
      "metadata": {
        "id": "3OYBdgHJ-yVS"
      },
      "execution_count": 30,
      "outputs": []
    },
    {
      "cell_type": "code",
      "source": [],
      "metadata": {
        "id": "8mE_5jZdzqRi"
      },
      "execution_count": null,
      "outputs": []
    }
  ]
}